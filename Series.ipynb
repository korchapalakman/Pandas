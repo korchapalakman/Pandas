{
 "cells": [
  {
   "cell_type": "markdown",
   "id": "2a0eae75",
   "metadata": {},
   "source": [
    "# Series \n",
    "a data structure in Pandas that holds an array of information along with a named index\n",
    "\n",
    "(one-dimensional ndarray with axis labels)"
   ]
  },
  {
   "cell_type": "code",
   "execution_count": 1,
   "id": "6a9429a3",
   "metadata": {},
   "outputs": [],
   "source": [
    "import numpy as np"
   ]
  },
  {
   "cell_type": "code",
   "execution_count": 2,
   "id": "ea7fa8e9",
   "metadata": {},
   "outputs": [],
   "source": [
    "import pandas as pd"
   ]
  },
  {
   "cell_type": "markdown",
   "id": "252489de",
   "metadata": {},
   "source": [
    "## 1 way of creating a Series"
   ]
  },
  {
   "cell_type": "code",
   "execution_count": 3,
   "id": "e203b53e",
   "metadata": {},
   "outputs": [],
   "source": [
    "# create two variables\n",
    "\n",
    "myindex = [\"USA\", \"Uzbekistan\", \"Armenia\"]\n",
    "mydata = [2022, 1996,1967]"
   ]
  },
  {
   "cell_type": "code",
   "execution_count": 4,
   "id": "1768d541",
   "metadata": {},
   "outputs": [],
   "source": [
    "# create a Series with index and data\n",
    "\n",
    "myser = pd.Series(data = mydata, index= myindex)"
   ]
  },
  {
   "cell_type": "code",
   "execution_count": 5,
   "id": "aef44fb0",
   "metadata": {},
   "outputs": [
    {
     "data": {
      "text/plain": [
       "USA           2022\n",
       "Uzbekistan    1996\n",
       "Armenia       1967\n",
       "dtype: int64"
      ]
     },
     "execution_count": 5,
     "metadata": {},
     "output_type": "execute_result"
    }
   ],
   "source": [
    "myser"
   ]
  },
  {
   "cell_type": "code",
   "execution_count": 12,
   "id": "a733cf01",
   "metadata": {},
   "outputs": [
    {
     "data": {
      "text/plain": [
       "2022"
      ]
     },
     "execution_count": 12,
     "metadata": {},
     "output_type": "execute_result"
    }
   ],
   "source": [
    "# grabbing information \n",
    "# with index possition \n",
    "\n",
    "myser[0]"
   ]
  },
  {
   "cell_type": "code",
   "execution_count": 13,
   "id": "c7a990b0",
   "metadata": {},
   "outputs": [
    {
     "data": {
      "text/plain": [
       "2022"
      ]
     },
     "execution_count": 13,
     "metadata": {},
     "output_type": "execute_result"
    }
   ],
   "source": [
    "# grabbing information \n",
    "# with labeled index\n",
    "\n",
    "myser[\"USA\"]"
   ]
  },
  {
   "cell_type": "markdown",
   "id": "40dbd495",
   "metadata": {},
   "source": [
    "## 2 way of creating a Series"
   ]
  },
  {
   "cell_type": "code",
   "execution_count": 14,
   "id": "19277287",
   "metadata": {},
   "outputs": [],
   "source": [
    "# Create a dict\n",
    "\n",
    "ages = {\"Sam\": 5, \"Joe\": 10, \"Loh\": 7}"
   ]
  },
  {
   "cell_type": "code",
   "execution_count": 15,
   "id": "f1bbe5bf",
   "metadata": {},
   "outputs": [
    {
     "data": {
      "text/plain": [
       "Sam     5\n",
       "Joe    10\n",
       "Loh     7\n",
       "dtype: int64"
      ]
     },
     "execution_count": 15,
     "metadata": {},
     "output_type": "execute_result"
    }
   ],
   "source": [
    "# assign that dict to Series\n",
    "# Pandas will automaticly create Series\n",
    "# keys - indexes\n",
    "# values - data\n",
    "\n",
    "pd.Series(ages)"
   ]
  },
  {
   "cell_type": "markdown",
   "id": "263a5c90",
   "metadata": {},
   "source": [
    "# Operations on Pandas"
   ]
  },
  {
   "cell_type": "code",
   "execution_count": 17,
   "id": "e7bae9f0",
   "metadata": {},
   "outputs": [],
   "source": [
    "# Imaginary Sales Data for 1st and 2nd Quarters for Global Company\n",
    "q1 = {'Japan': 80, 'China': 450, 'India': 200, 'USA': 250}\n",
    "q2 = {'Brazil': 100,'China': 500, 'India': 210,'USA': 260}"
   ]
  },
  {
   "cell_type": "code",
   "execution_count": 19,
   "id": "66178753",
   "metadata": {},
   "outputs": [],
   "source": [
    "sales_q1 = pd.Series(q1)\n",
    "sales_q2 = pd.Series(q2)"
   ]
  },
  {
   "cell_type": "code",
   "execution_count": 20,
   "id": "f8403d49",
   "metadata": {},
   "outputs": [
    {
     "data": {
      "text/plain": [
       "Japan     80\n",
       "China    450\n",
       "India    200\n",
       "USA      250\n",
       "dtype: int64"
      ]
     },
     "execution_count": 20,
     "metadata": {},
     "output_type": "execute_result"
    }
   ],
   "source": [
    "sales_q1"
   ]
  },
  {
   "cell_type": "code",
   "execution_count": 21,
   "id": "6a8dd11e",
   "metadata": {},
   "outputs": [
    {
     "data": {
      "text/plain": [
       "Brazil    100\n",
       "China     500\n",
       "India     210\n",
       "USA       260\n",
       "dtype: int64"
      ]
     },
     "execution_count": 21,
     "metadata": {},
     "output_type": "execute_result"
    }
   ],
   "source": [
    "sales_q2"
   ]
  },
  {
   "cell_type": "code",
   "execution_count": 22,
   "id": "27217a15",
   "metadata": {},
   "outputs": [
    {
     "data": {
      "text/plain": [
       "80"
      ]
     },
     "execution_count": 22,
     "metadata": {},
     "output_type": "execute_result"
    }
   ],
   "source": [
    "sales_q1[\"Japan\"]"
   ]
  },
  {
   "cell_type": "markdown",
   "id": "44cb6a77",
   "metadata": {},
   "source": [
    "### To search for the keys"
   ]
  },
  {
   "cell_type": "code",
   "execution_count": 23,
   "id": "454e06e8",
   "metadata": {},
   "outputs": [
    {
     "data": {
      "text/plain": [
       "Index(['Japan', 'China', 'India', 'USA'], dtype='object')"
      ]
     },
     "execution_count": 23,
     "metadata": {},
     "output_type": "execute_result"
    }
   ],
   "source": [
    "sales_q1.keys()"
   ]
  },
  {
   "cell_type": "markdown",
   "id": "a3ba760d",
   "metadata": {},
   "source": [
    "## Broadcasting"
   ]
  },
  {
   "cell_type": "markdown",
   "id": "59b91067",
   "metadata": {},
   "source": [
    "### ( * , / , ** , + , - )"
   ]
  },
  {
   "cell_type": "code",
   "execution_count": 24,
   "id": "a61f9ac0",
   "metadata": {},
   "outputs": [
    {
     "data": {
      "text/plain": [
       "Japan    160\n",
       "China    900\n",
       "India    400\n",
       "USA      500\n",
       "dtype: int64"
      ]
     },
     "execution_count": 24,
     "metadata": {},
     "output_type": "execute_result"
    }
   ],
   "source": [
    "sales_q1 *2"
   ]
  },
  {
   "cell_type": "code",
   "execution_count": 25,
   "id": "f4a6314b",
   "metadata": {},
   "outputs": [
    {
     "data": {
      "text/plain": [
       "Japan     8.0\n",
       "China    45.0\n",
       "India    20.0\n",
       "USA      25.0\n",
       "dtype: float64"
      ]
     },
     "execution_count": 25,
     "metadata": {},
     "output_type": "execute_result"
    }
   ],
   "source": [
    "sales_q1 / 10"
   ]
  },
  {
   "cell_type": "code",
   "execution_count": 26,
   "id": "89125c66",
   "metadata": {},
   "outputs": [
    {
     "data": {
      "text/plain": [
       "Japan     80\n",
       "China    450\n",
       "India    200\n",
       "USA      250\n",
       "dtype: int64"
      ]
     },
     "execution_count": 26,
     "metadata": {},
     "output_type": "execute_result"
    }
   ],
   "source": [
    "sales_q1"
   ]
  },
  {
   "cell_type": "code",
   "execution_count": 27,
   "id": "ff023a0d",
   "metadata": {},
   "outputs": [
    {
     "data": {
      "text/plain": [
       "Brazil    100\n",
       "China     500\n",
       "India     210\n",
       "USA       260\n",
       "dtype: int64"
      ]
     },
     "execution_count": 27,
     "metadata": {},
     "output_type": "execute_result"
    }
   ],
   "source": [
    "sales_q2\n",
    "# note that Japan is replaced by brazil"
   ]
  },
  {
   "cell_type": "code",
   "execution_count": 28,
   "id": "96bb3105",
   "metadata": {},
   "outputs": [
    {
     "data": {
      "text/plain": [
       "Brazil      NaN\n",
       "China     950.0\n",
       "India     410.0\n",
       "Japan       NaN\n",
       "USA       510.0\n",
       "dtype: float64"
      ]
     },
     "execution_count": 28,
     "metadata": {},
     "output_type": "execute_result"
    }
   ],
   "source": [
    "sales_q1 + sales_q2\n",
    "\n",
    "# pandas will understan by index the difference in values \n",
    "# but wont be able to calculate them"
   ]
  },
  {
   "cell_type": "code",
   "execution_count": 29,
   "id": "0f14b8bb",
   "metadata": {},
   "outputs": [],
   "source": [
    "# to sole this \n",
    "# need to add values to both colums that are missing with \n",
    "# 0 values for additional procidures\n"
   ]
  },
  {
   "cell_type": "markdown",
   "id": "01f7f973",
   "metadata": {},
   "source": [
    "## ADD"
   ]
  },
  {
   "cell_type": "code",
   "execution_count": 43,
   "id": "98f27150",
   "metadata": {},
   "outputs": [
    {
     "data": {
      "text/plain": [
       "Brazil    100.0\n",
       "China     950.0\n",
       "India     410.0\n",
       "Japan      80.0\n",
       "USA       510.0\n",
       "dtype: float64"
      ]
     },
     "execution_count": 43,
     "metadata": {},
     "output_type": "execute_result"
    }
   ],
   "source": [
    "sales_q1.add(sales_q2,fill_value=0 )\n",
    "\n",
    "\n",
    "# one series + another\n",
    "# fill in \"fill_value\" in case something is missing in any \n",
    "# of the series"
   ]
  },
  {
   "cell_type": "code",
   "execution_count": 35,
   "id": "12aea264",
   "metadata": {},
   "outputs": [],
   "source": [
    "# as soon as you start doing numeric calculations with any object\n",
    "# within pandas it will conver it to floating point number"
   ]
  },
  {
   "cell_type": "code",
   "execution_count": 42,
   "id": "6948c715",
   "metadata": {},
   "outputs": [
    {
     "data": {
      "text/plain": [
       "dtype('float64')"
      ]
     },
     "execution_count": 42,
     "metadata": {},
     "output_type": "execute_result"
    }
   ],
   "source": [
    "sales_q1.add(sales_q2,fill_value=0).dtype"
   ]
  },
  {
   "cell_type": "code",
   "execution_count": null,
   "id": "8b019711",
   "metadata": {},
   "outputs": [],
   "source": []
  }
 ],
 "metadata": {
  "kernelspec": {
   "display_name": "Python 3 (ipykernel)",
   "language": "python",
   "name": "python3"
  },
  "language_info": {
   "codemirror_mode": {
    "name": "ipython",
    "version": 3
   },
   "file_extension": ".py",
   "mimetype": "text/x-python",
   "name": "python",
   "nbconvert_exporter": "python",
   "pygments_lexer": "ipython3",
   "version": "3.9.12"
  }
 },
 "nbformat": 4,
 "nbformat_minor": 5
}
