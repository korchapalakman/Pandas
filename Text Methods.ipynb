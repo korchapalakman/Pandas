{
 "cells": [
  {
   "cell_type": "code",
   "execution_count": 1,
   "id": "475a7fdb",
   "metadata": {},
   "outputs": [],
   "source": [
    "import pandas as pd\n",
    "import numpy as np"
   ]
  },
  {
   "cell_type": "code",
   "execution_count": 3,
   "id": "a085a31f",
   "metadata": {},
   "outputs": [],
   "source": [
    "email = \"vazgenosipov@gmail.com\""
   ]
  },
  {
   "cell_type": "code",
   "execution_count": 4,
   "id": "050602e1",
   "metadata": {},
   "outputs": [
    {
     "data": {
      "text/plain": [
       "['vazgenosipov', 'gmail.com']"
      ]
     },
     "execution_count": 4,
     "metadata": {},
     "output_type": "execute_result"
    }
   ],
   "source": [
    "email.split('@')"
   ]
  },
  {
   "cell_type": "code",
   "execution_count": 5,
   "id": "f68fdd0b",
   "metadata": {},
   "outputs": [],
   "source": [
    "name = pd.Series([\"Andrew\", \"Bobo\", \"Vazgen\", \"Vartan\", \"6\"])"
   ]
  },
  {
   "cell_type": "code",
   "execution_count": 6,
   "id": "bb19cc94",
   "metadata": {
    "scrolled": true
   },
   "outputs": [
    {
     "data": {
      "text/plain": [
       "0    Andrew\n",
       "1      Bobo\n",
       "2    Vazgen\n",
       "3    Vartan\n",
       "4         6\n",
       "dtype: object"
      ]
     },
     "execution_count": 6,
     "metadata": {},
     "output_type": "execute_result"
    }
   ],
   "source": [
    "name"
   ]
  },
  {
   "cell_type": "markdown",
   "id": "188b0dfd",
   "metadata": {},
   "source": [
    "# STRING METHODS"
   ]
  },
  {
   "cell_type": "code",
   "execution_count": 8,
   "id": "217a905b",
   "metadata": {},
   "outputs": [
    {
     "data": {
      "text/plain": [
       "0    ANDREW\n",
       "1      BOBO\n",
       "2    VAZGEN\n",
       "3    VARTAN\n",
       "4         6\n",
       "dtype: object"
      ]
     },
     "execution_count": 8,
     "metadata": {},
     "output_type": "execute_result"
    }
   ],
   "source": [
    "name.str.upper()\n",
    "\n",
    "# specify the method call on str libriarry\n",
    "# search for the necessary method in the list"
   ]
  },
  {
   "cell_type": "code",
   "execution_count": 9,
   "id": "f93f2622",
   "metadata": {},
   "outputs": [
    {
     "data": {
      "text/plain": [
       "0    False\n",
       "1    False\n",
       "2    False\n",
       "3    False\n",
       "4     True\n",
       "dtype: bool"
      ]
     },
     "execution_count": 9,
     "metadata": {},
     "output_type": "execute_result"
    }
   ],
   "source": [
    "name.str.isdigit()"
   ]
  },
  {
   "cell_type": "code",
   "execution_count": 10,
   "id": "7d2d39fa",
   "metadata": {},
   "outputs": [],
   "source": [
    "# expand a series on a data frame\n",
    "\n",
    "tech_finance = [\"Goog,Appl,Amzn\",\"JPM,BAC,GS\"]"
   ]
  },
  {
   "cell_type": "code",
   "execution_count": 11,
   "id": "7ff2fb60",
   "metadata": {},
   "outputs": [],
   "source": [
    "tickers = pd.Series(tech_finance)"
   ]
  },
  {
   "cell_type": "code",
   "execution_count": 12,
   "id": "8aa6fb44",
   "metadata": {},
   "outputs": [
    {
     "data": {
      "text/plain": [
       "0    Goog,Appl,Amzn\n",
       "1        JPM,BAC,GS\n",
       "dtype: object"
      ]
     },
     "execution_count": 12,
     "metadata": {},
     "output_type": "execute_result"
    }
   ],
   "source": [
    "tickers"
   ]
  },
  {
   "cell_type": "code",
   "execution_count": 13,
   "id": "b41da087",
   "metadata": {},
   "outputs": [
    {
     "data": {
      "text/plain": [
       "0    [Goog, Appl, Amzn]\n",
       "1        [JPM, BAC, GS]\n",
       "dtype: object"
      ]
     },
     "execution_count": 13,
     "metadata": {},
     "output_type": "execute_result"
    }
   ],
   "source": [
    "# split on commas\n",
    "\n",
    "tickers.str.split (\",\")"
   ]
  },
  {
   "cell_type": "code",
   "execution_count": 16,
   "id": "b1f2d13e",
   "metadata": {},
   "outputs": [
    {
     "data": {
      "text/plain": [
       "'JPM'"
      ]
     },
     "execution_count": 16,
     "metadata": {},
     "output_type": "execute_result"
    }
   ],
   "source": [
    "tickers.str.split (\",\").str[0]"
   ]
  },
  {
   "cell_type": "code",
   "execution_count": 18,
   "id": "0dcfcab8",
   "metadata": {},
   "outputs": [
    {
     "data": {
      "text/plain": [
       "'JPM'"
      ]
     },
     "execution_count": 18,
     "metadata": {},
     "output_type": "execute_result"
    }
   ],
   "source": [
    "tickers.str.split (\",\").str[0][1]"
   ]
  },
  {
   "cell_type": "code",
   "execution_count": 19,
   "id": "9d75e624",
   "metadata": {},
   "outputs": [
    {
     "data": {
      "text/html": [
       "<div>\n",
       "<style scoped>\n",
       "    .dataframe tbody tr th:only-of-type {\n",
       "        vertical-align: middle;\n",
       "    }\n",
       "\n",
       "    .dataframe tbody tr th {\n",
       "        vertical-align: top;\n",
       "    }\n",
       "\n",
       "    .dataframe thead th {\n",
       "        text-align: right;\n",
       "    }\n",
       "</style>\n",
       "<table border=\"1\" class=\"dataframe\">\n",
       "  <thead>\n",
       "    <tr style=\"text-align: right;\">\n",
       "      <th></th>\n",
       "      <th>0</th>\n",
       "      <th>1</th>\n",
       "      <th>2</th>\n",
       "    </tr>\n",
       "  </thead>\n",
       "  <tbody>\n",
       "    <tr>\n",
       "      <th>0</th>\n",
       "      <td>Goog</td>\n",
       "      <td>Appl</td>\n",
       "      <td>Amzn</td>\n",
       "    </tr>\n",
       "    <tr>\n",
       "      <th>1</th>\n",
       "      <td>JPM</td>\n",
       "      <td>BAC</td>\n",
       "      <td>GS</td>\n",
       "    </tr>\n",
       "  </tbody>\n",
       "</table>\n",
       "</div>"
      ],
      "text/plain": [
       "      0     1     2\n",
       "0  Goog  Appl  Amzn\n",
       "1   JPM   BAC    GS"
      ]
     },
     "execution_count": 19,
     "metadata": {},
     "output_type": "execute_result"
    }
   ],
   "source": [
    "### Make a dataframe\n",
    "\n",
    "tickers.str.split (\",\", expand=True)"
   ]
  },
  {
   "cell_type": "code",
   "execution_count": 20,
   "id": "2b8a43ea",
   "metadata": {},
   "outputs": [],
   "source": [
    "### Staking string calls\n",
    "\n",
    "# lets create a list with typos\n",
    "\n",
    "messy_names = pd.Series([\"andrew  \",\"var;tan\", \"  vazgen  \"])"
   ]
  },
  {
   "cell_type": "code",
   "execution_count": 21,
   "id": "fd872f25",
   "metadata": {},
   "outputs": [
    {
     "data": {
      "text/plain": [
       "0      andrew  \n",
       "1       var;tan\n",
       "2      vazgen  \n",
       "dtype: object"
      ]
     },
     "execution_count": 21,
     "metadata": {},
     "output_type": "execute_result"
    }
   ],
   "source": [
    "messy_names"
   ]
  },
  {
   "cell_type": "code",
   "execution_count": 22,
   "id": "edd917ae",
   "metadata": {},
   "outputs": [
    {
     "data": {
      "text/plain": [
       "'andrew  '"
      ]
     },
     "execution_count": 22,
     "metadata": {},
     "output_type": "execute_result"
    }
   ],
   "source": [
    "messy_names[0]"
   ]
  },
  {
   "cell_type": "code",
   "execution_count": 23,
   "id": "a50477e0",
   "metadata": {},
   "outputs": [
    {
     "data": {
      "text/plain": [
       "0      andrew  \n",
       "1        vartan\n",
       "2      vazgen  \n",
       "dtype: object"
      ]
     },
     "execution_count": 23,
     "metadata": {},
     "output_type": "execute_result"
    }
   ],
   "source": [
    "### Clean up the data\n",
    "\n",
    "# 1 step \n",
    "# replace the sign \n",
    "\n",
    "messy_names.str.replace(\";\",\"\")\n",
    "\n",
    "# replaces everything mentioned in first string \n",
    "# with the symbol in second string"
   ]
  },
  {
   "cell_type": "code",
   "execution_count": 24,
   "id": "10683209",
   "metadata": {},
   "outputs": [
    {
     "data": {
      "text/plain": [
       "0    andrew\n",
       "1    vartan\n",
       "2    vazgen\n",
       "dtype: object"
      ]
     },
     "execution_count": 24,
     "metadata": {},
     "output_type": "execute_result"
    }
   ],
   "source": [
    "# 2 step \n",
    "# clean the white spaces\n",
    "\n",
    "messy_names.str.replace(\";\",\"\").str.strip()"
   ]
  },
  {
   "cell_type": "code",
   "execution_count": 25,
   "id": "e3908572",
   "metadata": {},
   "outputs": [
    {
     "data": {
      "text/plain": [
       "0    Andrew\n",
       "1    Vartan\n",
       "2    Vazgen\n",
       "dtype: object"
      ]
     },
     "execution_count": 25,
     "metadata": {},
     "output_type": "execute_result"
    }
   ],
   "source": [
    "# 3 step \n",
    "# capitalize the first letter\n",
    "\n",
    "messy_names.str.replace(\";\",\"\").str.strip().str.capitalize()"
   ]
  },
  {
   "cell_type": "code",
   "execution_count": null,
   "id": "117bc11b",
   "metadata": {},
   "outputs": [],
   "source": [
    "# basically every string method and call \n",
    "# is avaliable to use on a series \n",
    "# use syntax Series.str.method()\n"
   ]
  },
  {
   "cell_type": "code",
   "execution_count": 28,
   "id": "6b34a7c7",
   "metadata": {},
   "outputs": [],
   "source": [
    "# as a side note we are able to call apply function call\n",
    "\n",
    "def cleanup(name):\n",
    "    name = name.replace(\";\",\"\")\n",
    "    name = name.strip()\n",
    "    name = name.capitalize()\n",
    "    return name"
   ]
  },
  {
   "cell_type": "code",
   "execution_count": 36,
   "id": "a0d90251",
   "metadata": {},
   "outputs": [
    {
     "data": {
      "text/plain": [
       "0    Andrew\n",
       "1    Vartan\n",
       "2    Vazgen\n",
       "dtype: object"
      ]
     },
     "execution_count": 36,
     "metadata": {},
     "output_type": "execute_result"
    }
   ],
   "source": [
    "# use vectorize\n",
    "\n",
    "# 1 create a series\n",
    "# 2 vectorize the function on array inside\n",
    "\n",
    "pd.Series(np.vectorize(cleanup)(messy_names))"
   ]
  },
  {
   "cell_type": "code",
   "execution_count": 30,
   "id": "c76275b1",
   "metadata": {},
   "outputs": [
    {
     "data": {
      "text/plain": [
       "0    Andrew\n",
       "1    Vartan\n",
       "2    Vazgen\n",
       "dtype: object"
      ]
     },
     "execution_count": 30,
     "metadata": {},
     "output_type": "execute_result"
    }
   ],
   "source": [
    "# or use apply function\n",
    "\n",
    "messy_names.apply(cleanup)"
   ]
  }
 ],
 "metadata": {
  "kernelspec": {
   "display_name": "Python 3 (ipykernel)",
   "language": "python",
   "name": "python3"
  },
  "language_info": {
   "codemirror_mode": {
    "name": "ipython",
    "version": 3
   },
   "file_extension": ".py",
   "mimetype": "text/x-python",
   "name": "python",
   "nbconvert_exporter": "python",
   "pygments_lexer": "ipython3",
   "version": "3.9.12"
  }
 },
 "nbformat": 4,
 "nbformat_minor": 5
}
